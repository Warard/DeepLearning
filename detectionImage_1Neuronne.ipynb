{
 "cells": [
  {
   "cell_type": "code",
   "execution_count": 81,
   "metadata": {},
   "outputs": [],
   "source": [
    "from utilities import *\n",
    "from sklearn import preprocessing\n",
    "import numpy as np\n",
    "import matplotlib.pyplot as plt\n",
    "from sklearn.datasets import make_blobs\n",
    "from sklearn.metrics import accuracy_score\n",
    "from tqdm import tqdm"
   ]
  },
  {
   "cell_type": "code",
   "execution_count": 33,
   "metadata": {},
   "outputs": [],
   "source": [
    "def initialisation(X):\n",
    "  ''' Initialise le vecteur colonne W et le scalaire b à des valeurs random. Ce sont les paramètres du modèle à ajuster plus tard'''\n",
    "  W = np.random.randn(X.shape[1], 1) \n",
    "  # W est un vecteur colonne de dimension le nombre de variables (=nb de colonnes de X). En effet, chaque paramètre à un poids qu'il faut ajuster\n",
    "  b = np.random.randn(1) # Scalaire\n",
    "  return W, b"
   ]
  },
  {
   "cell_type": "code",
   "execution_count": 34,
   "metadata": {},
   "outputs": [],
   "source": [
    "def model(X, W, b):\n",
    "  '''Calcul du vecteur colonne A'''\n",
    "  Z = X.dot(W) + b\n",
    "  A = 1 / (1 + np.exp(-Z)) # Vecteur colonne de dimension m contenant les probas pour chaque paramètre \n",
    "  return A"
   ]
  },
  {
   "cell_type": "code",
   "execution_count": 57,
   "metadata": {},
   "outputs": [],
   "source": [
    "def log_loss(A, y):\n",
    "  ''' Fonction coût, retourne un scalaire sur la véracité du modèle'''\n",
    "  epsilon = 1e-15 # Pour ne jamais prendre log 0\n",
    "  return 1/len(y) * np.sum(-y * np.log(A + epsilon) - (1 - y) * np.log(1-A + epsilon) )"
   ]
  },
  {
   "cell_type": "code",
   "execution_count": 36,
   "metadata": {},
   "outputs": [],
   "source": [
    "def gradients(A, X, y):\n",
    "  ''' Calcul des gradients '''\n",
    "  dW = 1/ len(y) * np.dot(X.T, A-y) #Vecteur colonne de dimension m\n",
    "  db = 1/ len(y) * np.sum(A - y) # Scalaire\n",
    "  return dW, db"
   ]
  },
  {
   "cell_type": "code",
   "execution_count": 37,
   "metadata": {},
   "outputs": [],
   "source": [
    "def update(dW, db, W, b, learning_rate):\n",
    "  ''' Met à jour le modèle en ajustant les paramètres W et b'''\n",
    "  W = W - learning_rate * dW \n",
    "# Si le gradient (dW) devient nul, W converge vers une valeur finale. Or ce gradient ne cv que si A-y --> 0, c'est à dire les probas mesurées --> 1 \n",
    "  b = b - learning_rate * db\n",
    "  return W, b"
   ]
  },
  {
   "cell_type": "code",
   "execution_count": 38,
   "metadata": {},
   "outputs": [],
   "source": [
    "def predict(X, W, b, printProba = False):\n",
    "  ''' Calcul le vecteur probas A pour un jeu de donnée X avec le modèle réglé aux paras W et b '''\n",
    "  A = model(X, W, b)\n",
    "  if printProba : print(A)\n",
    "  return A >= 0.5 # Si la proba est >= 0.5, retourne True"
   ]
  },
  {
   "cell_type": "code",
   "execution_count": 1,
   "metadata": {},
   "outputs": [],
   "source": [
    "def artificial_neuron(X_train, y_train, X_test, y_test, learning_rate=0.01, n_iter=1000):\n",
    "  ''' Applique le procédé itératif : \n",
    "    -Calcul du vecteur colonne proba\n",
    "    -Calcul l'erreur (le coût)\n",
    "    -Calcul du vecteur colonne gradient W et du scalaire gradient b (càd l'évolution de l'erreur en fonction de W et b qui varient)\n",
    "    -Mise à jour de W et b\n",
    "  '''\n",
    "  # Initialisation des para W et b\n",
    "  W, b = initialisation(X_train)\n",
    "\n",
    "  train_loss = []\n",
    "  train_acc = []\n",
    "  test_loss = []\n",
    "  test_acc = []\n",
    "\n",
    "  # Itération pour calculer W et b\n",
    "  for i in tqdm(range(n_iter)):\n",
    "    # Activation\n",
    "    A = model(X_train, W, b)\n",
    "\n",
    "    if i % 10 == 0: # Limitation du nb de données à afficher (rapidité calcul)\n",
    "      # Coût\n",
    "      train_loss.append(log_loss(A, y_train)) \n",
    "\n",
    "      # Train\n",
    "      train_loss.append(log_loss(A, y_train))\n",
    "      y_pred = predict(X_train, W, b) # Calcul du vecteur colonne des prédictions \n",
    "      train_acc.append(accuracy_score(y_train, y_pred))\n",
    "    \n",
    "      # Test\n",
    "      A_test = model(X_test, W, b)\n",
    "      test_loss.append(log_loss(A_test, y_test))\n",
    "      y_pred = predict(X_test, W, b) # Calcul du vecteur colonne des prédictions \n",
    "      test_acc.append(accuracy_score(y_test, y_pred))\n",
    "    \n",
    "\n",
    "    # Gradients et mise à jour\n",
    "    dW, db = gradients (A, X_train, y_train) \n",
    "    W, b = update(dW, db, W, b, learning_rate)\n",
    "  \n",
    "  plt.figure(figsize=(12, 4))\n",
    "  \n",
    "  plt.subplot(1, 2, 1)\n",
    "  plt.plot(train_loss, label=\"Train loss\")\n",
    "  plt.plot(test_loss, label=\"Test loss\")\n",
    "  plt.legend()\n",
    "  \n",
    "  plt.subplot(1, 2, 2)\n",
    "  plt.plot(train_acc, label=\"Train acc\")\n",
    "  plt.plot(test_acc, label=\"Test acc\")\n",
    "  plt.legend()\n",
    "\n",
    "  plt.show()\n",
    "\n",
    "  return W, b\n",
    "\n"
   ]
  },
  {
   "cell_type": "markdown",
   "metadata": {},
   "source": [
    "PREPROCESSING DATASET"
   ]
  },
  {
   "cell_type": "code",
   "execution_count": 58,
   "metadata": {},
   "outputs": [
    {
     "name": "stdout",
     "output_type": "stream",
     "text": [
      "Taille de X : (1000, 64, 64)\n",
      "Taille de Y : (1000, 1)\n"
     ]
    }
   ],
   "source": [
    "X_train, Y_train, X_test, Y_test = load_data()\n",
    "print(f'Taille de X : {X_train.shape}') # Liste de 64 listes contenant 64 listes contenant une valeur (0 - 255) \n",
    "print(f'Taille de Y : {Y_train.shape}') # Vecteur colonne"
   ]
  },
  {
   "cell_type": "markdown",
   "metadata": {},
   "source": [
    "Reshape"
   ]
  },
  {
   "cell_type": "code",
   "execution_count": 59,
   "metadata": {},
   "outputs": [
    {
     "name": "stdout",
     "output_type": "stream",
     "text": [
      "(1000, 4096) (200, 4096)\n"
     ]
    }
   ],
   "source": [
    "X_train_reshaped = X_train.reshape(X_train.shape[0], X_train.shape[1] * X_train.shape[2]) # Passage en deux dimensions (matrice 1000x4096)\n",
    "X_test_reshaped = X_test.reshape(X_test.shape[0], -1) # Passage en deux dimensions (matrice 200x4096)\n",
    "\n",
    "print(X_train_reshaped.shape, X_test_reshaped.shape)"
   ]
  },
  {
   "cell_type": "markdown",
   "metadata": {},
   "source": [
    "Normalisation \n",
    "\n",
    "On normalise pour que chaque paramètre ait la même influence sur la fonction coût de manière à ce que la fonction coût puisse converger vers 0"
   ]
  },
  {
   "cell_type": "code",
   "execution_count": 60,
   "metadata": {},
   "outputs": [],
   "source": [
    "X_train_reshaped = X_train_reshaped / X_train_reshaped.max()\n",
    "X_test_reshaped = X_test_reshaped / X_test_reshaped.max()"
   ]
  },
  {
   "cell_type": "code",
   "execution_count": 91,
   "metadata": {},
   "outputs": [
    {
     "name": "stderr",
     "output_type": "stream",
     "text": [
      "100%|██████████| 1000/1000 [00:08<00:00, 114.76it/s]\n"
     ]
    },
    {
     "data": {
      "image/png": "[encoded data removed]",
      "text/plain": [
       "<Figure size 864x288 with 2 Axes>"
      ]
     },
     "metadata": {
      "needs_background": "light"
     },
     "output_type": "display_data"
    },
    {
     "name": "stdout",
     "output_type": "stream",
     "text": [
      "(array([[-1.72441153],\n",
      "       [-1.39148431],\n",
      "       [-0.07066565],\n",
      "       ...,\n",
      "       [-1.23657462],\n",
      "       [ 0.927975  ],\n",
      "       [ 1.20929168]]), array([-1.33065213]))\n"
     ]
    }
   ],
   "source": [
    "print(artificial_neuron(X_train_reshaped, Y_train, X_test_reshaped, Y_test))"
   ]
  }
 ],
 "metadata": {
  "kernelspec": {
   "display_name": "Python 3.6.4 64-bit",
   "language": "python",
   "name": "python3"
  },
  "language_info": {
   "codemirror_mode": {
    "name": "ipython",
    "version": 3
   },
   "file_extension": ".py",
   "mimetype": "text/x-python",
   "name": "python",
   "nbconvert_exporter": "python",
   "pygments_lexer": "ipython3",
   "version": "3.6.4"
  },
  "orig_nbformat": 4,
  "vscode": {
   "interpreter": {
    "hash": "91288e1bc9905f1816d9c5b62914cacfb768ed5acfde0ad064e431ca7c1ea98e"
   }
  }
 },
 "nbformat": 4,
 "nbformat_minor": 2
}
