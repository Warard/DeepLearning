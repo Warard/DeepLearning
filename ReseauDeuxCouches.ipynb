{
 "cells": [
  {
   "cell_type": "code",
   "execution_count": 7,
   "metadata": {},
   "outputs": [],
   "source": [
    "from utilities import *\n",
    "from sklearn import preprocessing\n",
    "import numpy as np\n",
    "import matplotlib.pyplot as plt\n",
    "from sklearn.datasets import make_blobs\n",
    "from sklearn.metrics import accuracy_score\n",
    "from tqdm import tqdm"
   ]
  },
  {
   "cell_type": "code",
   "execution_count": 1,
   "metadata": {},
   "outputs": [],
   "source": [
    "def initialisation(n0, n1, n2):\n",
    "  ''' Initialisation des vecteurs Wi et bi'''\n",
    "  W1 = np.random.randn(n1, n0) \n",
    "  b1 = np.random.randn(n1, 1)\n",
    "\n",
    "  W2 = np.random.randn(n2, n1) \n",
    "  b2 = np.random.randn(n2, 1)\n",
    "\n",
    "  parameters = {\n",
    "    'W1' : W1,\n",
    "    'b1' : b1,\n",
    "    'W2' : W2,\n",
    "    'b2' : b2\n",
    "  }\n",
    "\n",
    "  return parameters"
   ]
  },
  {
   "cell_type": "code",
   "execution_count": 2,
   "metadata": {},
   "outputs": [],
   "source": [
    "def forward_propagation(X, parameters):\n",
    "  '''Calcul de la matrice probabilités A'''\n",
    "  W1 = parameters['W1']\n",
    "  b1 = parameters['b1']\n",
    "  W2 = parameters['W2']\n",
    "  b2 = parameters['b2']\n",
    "  \n",
    "  Z1 = W1.dot(X) + b1\n",
    "  A1 = 1 / (1 + np.exp(-Z1)) \n",
    "  \n",
    "  Z2 = W2.dot(X) + b2\n",
    "  A2 = 1 / (1 + np.exp(-Z2)) \n",
    "  \n",
    "  activations = {\n",
    "    'A1' : A1,\n",
    "    'A2' : A2,\n",
    "  }\n",
    "  \n",
    "  return activations"
   ]
  },
  {
   "cell_type": "code",
   "execution_count": 57,
   "metadata": {},
   "outputs": [],
   "source": [
    "def log_loss(A, y):\n",
    "  ''' Fonction coût, retourne un scalaire sur la véracité du modèle'''\n",
    "  epsilon = 1e-15 # Pour ne jamais prendre log 0\n",
    "  return 1/len(y) * np.sum(-y * np.log(A + epsilon) - (1 - y) * np.log(1-A + epsilon) )"
   ]
  },
  {
   "cell_type": "code",
   "execution_count": 3,
   "metadata": {},
   "outputs": [],
   "source": [
    "def back_propagation(X, y, activations, parameters):\n",
    "  ''' Calcul des gradients '''\n",
    "\n",
    "  A1 = activations['A1']\n",
    "  A2 = activations['A2']\n",
    "  W2 = parameters['W2']\n",
    "\n",
    "  m = y.shape[1]\n",
    "\n",
    "  dZ2 = A2 - y\n",
    "  dW2 = 1/ m * dZ2.dot(A1.T)\n",
    "  db2 = 1/ m * np.sum(dZ2, axis=1, keepdims=True)\n",
    "\n",
    "  dZ1 = np.dot(W2.T, dZ2) * A1 * (1 - A1)\n",
    "  dW1 = 1/ m * dZ1.dot(X.T)\n",
    "  db1 = 1/ m * np.sum(dZ1, axis=1, keepdims=True)\n",
    "\n",
    "  gradients = {\n",
    "    'dW1' : dW1,\n",
    "    'db1' : db1,\n",
    "    'dW2' : dW2,\n",
    "    'db2' : db2\n",
    "  }\n",
    "\n",
    "  return gradients"
   ]
  },
  {
   "cell_type": "code",
   "execution_count": 4,
   "metadata": {},
   "outputs": [],
   "source": [
    "def update(gradients, parameters, learning_rate):\n",
    "  ''' Met à jour le modèle en ajustant les paramètres W et b à partir des gradients'''\n",
    "  W1 = parameters['W1']\n",
    "  b1 = parameters['b1']\n",
    "  W2 = parameters['W2']\n",
    "  b2 = parameters['b2']\n",
    "\n",
    "  dW1 = gradients['dW1']\n",
    "  db1 = gradients['db1']\n",
    "  dW2 = gradients['dW2']\n",
    "  db2 = gradients['db2']\n",
    "  \n",
    "  W1 = W1 - learning_rate * dW1\n",
    "  b1 = b1 - learning_rate * db1\n",
    "  W2 = W2 - learning_rate * dW2\n",
    "  b2 = b2 - learning_rate * db2\n",
    "\n",
    "  parameters = {\n",
    "    'W1' : W1,\n",
    "    'b1' : b1,\n",
    "    'W2' : W2,\n",
    "    'b2' : b2\n",
    "  }\n",
    "\n",
    "  return parameters"
   ]
  },
  {
   "cell_type": "code",
   "execution_count": 38,
   "metadata": {},
   "outputs": [],
   "source": [
    "def predict(X, parameters):\n",
    "  ''' Calcul le vecteur probas A pour un jeu de donnée X avec le modèle réglé aux paras W et b '''\n",
    "  activations = forward_propagation(X, parameters)\n",
    "  A2 = activations['A2']\n",
    "  return A2 >= 0.5\n"
   ]
  },
  {
   "cell_type": "code",
   "execution_count": 5,
   "metadata": {},
   "outputs": [],
   "source": [
    "def neural_network(X_train, y_train, X_test, y_test, n1, learning_rate=0.01, n_iter=1000):\n",
    "  ''' Applique le procédé itératif : \n",
    "    -Calcul du vecteur colonne proba\n",
    "    -Calcul l'erreur (le coût)\n",
    "    -Calcul du vecteur colonne gradient W et du scalaire gradient b (càd l'évolution de l'erreur en fonction de W et b qui varient)\n",
    "    -Mise à jour de W et b\n",
    "  '''\n",
    "  # Initialisation des para Wi et bi\n",
    "  n0 = X_train.shape[0]\n",
    "  n2 = y_train.shape[0]\n",
    "  parametres = initialisation(n0, n1, n2)\n",
    "\n",
    "  train_loss = []\n",
    "  train_acc = []\n",
    "\n",
    "  # Itération pour calculer W et b\n",
    "  for i in tqdm(range(n_iter)):\n",
    "    # Activation\n",
    "    activations = forward_propagation(X_train, parametres)\n",
    "    gradients = back_propagation(X_train, y_train, activations, parametres)\n",
    "    update(gradients, parametres, learning_rate)\n",
    "\n",
    "    if i % 10 == 0: # Limitation du nb de données à afficher (rapidité calcul)\n",
    "      # Coût\n",
    "      train_loss.append(log_loss(y_train, activations['A2'])) \n",
    "      y_pred = predict(X_train, parametres) # Calcul du vecteur colonne des prédictions\n",
    "      current_accuracy = accuracy_score(y_train.flatten(), y_pred.flatten())\n",
    "      train_acc.append(current_accuracy)\n",
    "  \n",
    "  plt.figure(figsize=(12, 4))\n",
    "  \n",
    "  plt.subplot(1, 2, 1)\n",
    "  plt.plot(train_loss, label=\"Train loss\")\n",
    "  plt.legend()\n",
    "  \n",
    "  plt.subplot(1, 2, 2)\n",
    "  plt.plot(train_acc, label=\"Train acc\")\n",
    "  plt.legend()\n",
    "\n",
    "  plt.show()\n",
    "\n",
    "  return parametres\n",
    "\n"
   ]
  }
 ],
 "metadata": {
  "kernelspec": {
   "display_name": "Python 3.6.4 64-bit",
   "language": "python",
   "name": "python3"
  },
  "language_info": {
   "codemirror_mode": {
    "name": "ipython",
    "version": 3
   },
   "file_extension": ".py",
   "mimetype": "text/x-python",
   "name": "python",
   "nbconvert_exporter": "python",
   "pygments_lexer": "ipython3",
   "version": "3.6.4"
  },
  "orig_nbformat": 4,
  "vscode": {
   "interpreter": {
    "hash": "91288e1bc9905f1816d9c5b62914cacfb768ed5acfde0ad064e431ca7c1ea98e"
   }
  }
 },
 "nbformat": 4,
 "nbformat_minor": 2
}
